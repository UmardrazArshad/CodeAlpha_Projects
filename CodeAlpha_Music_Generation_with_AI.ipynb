{
  "nbformat": 4,
  "nbformat_minor": 0,
  "metadata": {
    "colab": {
      "provenance": [],
      "gpuType": "T4",
      "authorship_tag": "ABX9TyMV39WbMkb9MEnY0QHOI5mG",
      "include_colab_link": true
    },
    "kernelspec": {
      "name": "python3",
      "display_name": "Python 3"
    },
    "language_info": {
      "name": "python"
    },
    "accelerator": "GPU"
  },
  "cells": [
    {
      "cell_type": "markdown",
      "metadata": {
        "id": "view-in-github",
        "colab_type": "text"
      },
      "source": [
        "<a href=\"https://colab.research.google.com/github/UmardrazArshad/CodeAlpha_Projects/blob/main/CodeAlpha_Music_Generation_with_AI.ipynb\" target=\"_parent\"><img src=\"https://colab.research.google.com/assets/colab-badge.svg\" alt=\"Open In Colab\"/></a>"
      ]
    },
    {
      "cell_type": "code",
      "source": [
        "!pip install numpy tensorflow keras music21 pretty_midi magenta torch"
      ],
      "metadata": {
        "colab": {
          "base_uri": "https://localhost:8080/"
        },
        "collapsed": true,
        "id": "gX9RhxT2pjAs",
        "outputId": "6f9129c7-e075-4c3e-a8b3-b8ad20de02ee"
      },
      "execution_count": null,
      "outputs": [
        {
          "output_type": "stream",
          "name": "stdout",
          "text": [
            "Requirement already satisfied: numpy in /usr/local/lib/python3.11/dist-packages (2.0.2)\n",
            "Requirement already satisfied: tensorflow in /usr/local/lib/python3.11/dist-packages (2.18.0)\n",
            "Requirement already satisfied: keras in /usr/local/lib/python3.11/dist-packages (3.8.0)\n",
            "Requirement already satisfied: music21 in /usr/local/lib/python3.11/dist-packages (9.3.0)\n",
            "Collecting pretty_midi\n",
            "  Using cached pretty_midi-0.2.10.tar.gz (5.6 MB)\n",
            "  Preparing metadata (setup.py) ... \u001b[?25l\u001b[?25hdone\n",
            "Collecting magenta\n",
            "  Using cached magenta-2.1.4-py3-none-any.whl.metadata (2.1 kB)\n",
            "Requirement already satisfied: torch in /usr/local/lib/python3.11/dist-packages (2.6.0+cu124)\n",
            "Requirement already satisfied: absl-py>=1.0.0 in /usr/local/lib/python3.11/dist-packages (from tensorflow) (1.4.0)\n",
            "Requirement already satisfied: astunparse>=1.6.0 in /usr/local/lib/python3.11/dist-packages (from tensorflow) (1.6.3)\n",
            "Requirement already satisfied: flatbuffers>=24.3.25 in /usr/local/lib/python3.11/dist-packages (from tensorflow) (25.2.10)\n",
            "Requirement already satisfied: gast!=0.5.0,!=0.5.1,!=0.5.2,>=0.2.1 in /usr/local/lib/python3.11/dist-packages (from tensorflow) (0.6.0)\n",
            "Requirement already satisfied: google-pasta>=0.1.1 in /usr/local/lib/python3.11/dist-packages (from tensorflow) (0.2.0)\n",
            "Requirement already satisfied: libclang>=13.0.0 in /usr/local/lib/python3.11/dist-packages (from tensorflow) (18.1.1)\n",
            "Requirement already satisfied: opt-einsum>=2.3.2 in /usr/local/lib/python3.11/dist-packages (from tensorflow) (3.4.0)\n",
            "Requirement already satisfied: packaging in /usr/local/lib/python3.11/dist-packages (from tensorflow) (24.2)\n",
            "Requirement already satisfied: protobuf!=4.21.0,!=4.21.1,!=4.21.2,!=4.21.3,!=4.21.4,!=4.21.5,<6.0.0dev,>=3.20.3 in /usr/local/lib/python3.11/dist-packages (from tensorflow) (5.29.4)\n",
            "Requirement already satisfied: requests<3,>=2.21.0 in /usr/local/lib/python3.11/dist-packages (from tensorflow) (2.32.3)\n",
            "Requirement already satisfied: setuptools in /usr/local/lib/python3.11/dist-packages (from tensorflow) (75.1.0)\n",
            "Requirement already satisfied: six>=1.12.0 in /usr/local/lib/python3.11/dist-packages (from tensorflow) (1.17.0)\n",
            "Requirement already satisfied: termcolor>=1.1.0 in /usr/local/lib/python3.11/dist-packages (from tensorflow) (2.5.0)\n",
            "Requirement already satisfied: typing-extensions>=3.6.6 in /usr/local/lib/python3.11/dist-packages (from tensorflow) (4.12.2)\n",
            "Requirement already satisfied: wrapt>=1.11.0 in /usr/local/lib/python3.11/dist-packages (from tensorflow) (1.17.2)\n",
            "Requirement already satisfied: grpcio<2.0,>=1.24.3 in /usr/local/lib/python3.11/dist-packages (from tensorflow) (1.71.0)\n",
            "Requirement already satisfied: tensorboard<2.19,>=2.18 in /usr/local/lib/python3.11/dist-packages (from tensorflow) (2.18.0)\n",
            "Requirement already satisfied: h5py>=3.11.0 in /usr/local/lib/python3.11/dist-packages (from tensorflow) (3.13.0)\n",
            "Requirement already satisfied: ml-dtypes<0.5.0,>=0.4.0 in /usr/local/lib/python3.11/dist-packages (from tensorflow) (0.4.1)\n",
            "Requirement already satisfied: tensorflow-io-gcs-filesystem>=0.23.1 in /usr/local/lib/python3.11/dist-packages (from tensorflow) (0.37.1)\n",
            "Requirement already satisfied: rich in /usr/local/lib/python3.11/dist-packages (from keras) (13.9.4)\n",
            "Requirement already satisfied: namex in /usr/local/lib/python3.11/dist-packages (from keras) (0.0.8)\n",
            "Requirement already satisfied: optree in /usr/local/lib/python3.11/dist-packages (from keras) (0.14.1)\n",
            "Requirement already satisfied: chardet in /usr/local/lib/python3.11/dist-packages (from music21) (5.2.0)\n",
            "Requirement already satisfied: joblib in /usr/local/lib/python3.11/dist-packages (from music21) (1.4.2)\n",
            "Requirement already satisfied: jsonpickle in /usr/local/lib/python3.11/dist-packages (from music21) (4.0.2)\n",
            "Requirement already satisfied: matplotlib in /usr/local/lib/python3.11/dist-packages (from music21) (3.10.0)\n",
            "Requirement already satisfied: more-itertools in /usr/local/lib/python3.11/dist-packages (from music21) (10.6.0)\n",
            "Requirement already satisfied: webcolors>=1.5 in /usr/local/lib/python3.11/dist-packages (from music21) (24.11.1)\n",
            "Collecting mido>=1.1.16 (from pretty_midi)\n",
            "  Using cached mido-1.3.3-py3-none-any.whl.metadata (6.4 kB)\n",
            "Collecting absl-py>=1.0.0 (from tensorflow)\n",
            "  Using cached absl_py-1.2.0-py3-none-any.whl.metadata (2.3 kB)\n",
            "Collecting dm-sonnet==2.0.0 (from magenta)\n",
            "  Using cached dm_sonnet-2.0.0-py3-none-any.whl.metadata (12 kB)\n",
            "Collecting imageio==2.20.0 (from magenta)\n",
            "  Using cached imageio-2.20.0-py3-none-any.whl.metadata (4.9 kB)\n",
            "Collecting librosa==0.7.2 (from magenta)\n",
            "  Using cached librosa-0.7.2.tar.gz (1.6 MB)\n",
            "  Preparing metadata (setup.py) ... \u001b[?25l\u001b[?25hdone\n",
            "Collecting matplotlib (from music21)\n",
            "  Using cached matplotlib-3.5.2.tar.gz (35.2 MB)\n",
            "  Preparing metadata (setup.py) ... \u001b[?25l\u001b[?25hdone\n",
            "Collecting mido>=1.1.16 (from pretty_midi)\n",
            "  Using cached mido-1.2.6-py2.py3-none-any.whl.metadata (2.7 kB)\n",
            "Collecting mir-eval==0.7 (from magenta)\n",
            "  Using cached mir_eval-0.7.tar.gz (90 kB)\n",
            "  Preparing metadata (setup.py) ... \u001b[?25l\u001b[?25hdone\n",
            "Collecting note-seq==0.0.3 (from magenta)\n",
            "  Using cached note_seq-0.0.3-py3-none-any.whl.metadata (1.1 kB)\n",
            "Collecting numba==0.49.1 (from magenta)\n",
            "  Using cached numba-0.49.1.tar.gz (2.0 MB)\n",
            "  Preparing metadata (setup.py) ... \u001b[?25l\u001b[?25hdone\n",
            "INFO: pip is looking at multiple versions of magenta to determine which version is compatible with other requirements. This could take a while.\n",
            "Collecting magenta\n",
            "  Using cached magenta-2.1.3-py3-none-any.whl.metadata (2.0 kB)\n",
            "Collecting dm-sonnet (from magenta)\n",
            "  Using cached dm_sonnet-2.0.2-py3-none-any.whl.metadata (12 kB)\n",
            "Collecting dopamine-rl<=3.0.1 (from magenta)\n",
            "  Using cached dopamine_rl-3.0.1-py3-none-any.whl.metadata (1.6 kB)\n",
            "Requirement already satisfied: imageio in /usr/local/lib/python3.11/dist-packages (from magenta) (2.37.0)\n",
            "Collecting mir-eval>=0.4 (from magenta)\n",
            "  Using cached mir_eval-0.8.2-py3-none-any.whl.metadata (3.0 kB)\n",
            "Collecting note-seq (from magenta)\n",
            "  Using cached note_seq-0.0.5-py3-none-any.whl.metadata (1.1 kB)\n",
            "Requirement already satisfied: Pillow>=3.4.2 in /usr/local/lib/python3.11/dist-packages (from magenta) (11.1.0)\n",
            "Collecting pygtrie>=2.3 (from magenta)\n",
            "  Using cached pygtrie-2.5.0-py3-none-any.whl.metadata (7.5 kB)\n",
            "Collecting python-rtmidi<1.2,>=1.1 (from magenta)\n",
            "  Using cached python-rtmidi-1.1.2.tar.gz (204 kB)\n",
            "  \u001b[1;31merror\u001b[0m: \u001b[1msubprocess-exited-with-error\u001b[0m\n",
            "  \n",
            "  \u001b[31m×\u001b[0m \u001b[32mpython setup.py egg_info\u001b[0m did not run successfully.\n",
            "  \u001b[31m│\u001b[0m exit code: \u001b[1;36m1\u001b[0m\n",
            "  \u001b[31m╰─>\u001b[0m See above for output.\n",
            "  \n",
            "  \u001b[1;35mnote\u001b[0m: This error originates from a subprocess, and is likely not a problem with pip.\n",
            "  Preparing metadata (setup.py) ... \u001b[?25l\u001b[?25herror\n",
            "\u001b[1;31merror\u001b[0m: \u001b[1mmetadata-generation-failed\u001b[0m\n",
            "\n",
            "\u001b[31m×\u001b[0m Encountered error while generating package metadata.\n",
            "\u001b[31m╰─>\u001b[0m See above for output.\n",
            "\n",
            "\u001b[1;35mnote\u001b[0m: This is an issue with the package mentioned above, not pip.\n",
            "\u001b[1;36mhint\u001b[0m: See above for details.\n"
          ]
        }
      ]
    },
    {
      "cell_type": "code",
      "source": [
        "from music21 import stream, note, chord\n",
        "\n",
        "# Create a stream (musical piece)\n",
        "midi_stream = stream.Stream()\n",
        "\n",
        "# Define some notes\n",
        "notes = [\"C4\", \"E4\", \"G4\", \"C5\", \"E5\", \"G5\", \"B5\", \"C6\"]\n",
        "\n",
        "# Add notes to the MIDI stream\n",
        "for n in notes:\n",
        "    midi_note = note.Note(n)  # Create a note\n",
        "    midi_note.quarterLength = 1.0  # Set duration (1 beat)\n",
        "    midi_stream.append(midi_note)  # Add to the stream\n",
        "\n",
        "# Save the MIDI file\n",
        "midi_stream.write('midi', fp='generated_music.mid')\n",
        "\n",
        "print(\"MIDI file 'generated_music.mid' created successfully! 🎵\")\n"
      ],
      "metadata": {
        "colab": {
          "base_uri": "https://localhost:8080/"
        },
        "id": "2xU6-eYNtSbt",
        "outputId": "a017ffe0-04dc-4ebd-d363-78480de25248"
      },
      "execution_count": null,
      "outputs": [
        {
          "output_type": "stream",
          "name": "stdout",
          "text": [
            "MIDI file 'generated_music.mid' created successfully! 🎵\n"
          ]
        }
      ]
    },
    {
      "cell_type": "code",
      "source": [
        "import os\n",
        "from music21 import stream, note\n",
        "import random\n",
        "\n",
        "# Ensure the folder exists\n",
        "os.makedirs(\"midi_folder\", exist_ok=True)\n",
        "\n",
        "def generate_midi(filename=\"generated_music.mid\", num_notes=50):\n",
        "    midi_stream = stream.Stream()\n",
        "\n",
        "    # Generate random notes\n",
        "    for _ in range(num_notes):\n",
        "        pitch = random.choice([\"C4\", \"D4\", \"E4\", \"F4\", \"G4\", \"A4\", \"B4\"])  # Random note\n",
        "        midi_note = note.Note(pitch)\n",
        "        midi_note.quarterLength = random.choice([0.5, 1.0, 1.5, 2.0])  # Random duration\n",
        "        midi_stream.append(midi_note)\n",
        "\n",
        "    # Save MIDI file\n",
        "    midi_stream.write('midi', fp=filename)\n",
        "    print(f\"✅ MIDI file '{filename}' created!\")\n",
        "\n",
        "# Generate 5 MIDI files for training\n",
        "for i in range(5):\n",
        "    generate_midi(f\"midi_folder/generated_{i}.mid\")\n"
      ],
      "metadata": {
        "colab": {
          "base_uri": "https://localhost:8080/"
        },
        "id": "AkxuolvEuwNZ",
        "outputId": "b7df55b5-e740-4ae9-ac6a-28aca185f4af"
      },
      "execution_count": null,
      "outputs": [
        {
          "output_type": "stream",
          "name": "stdout",
          "text": [
            "✅ MIDI file 'midi_folder/generated_0.mid' created!\n",
            "✅ MIDI file 'midi_folder/generated_1.mid' created!\n",
            "✅ MIDI file 'midi_folder/generated_2.mid' created!\n",
            "✅ MIDI file 'midi_folder/generated_3.mid' created!\n",
            "✅ MIDI file 'midi_folder/generated_4.mid' created!\n"
          ]
        }
      ]
    },
    {
      "cell_type": "code",
      "source": [
        "import glob\n",
        "\n",
        "notes = []\n",
        "for file in glob.glob(\"midi_folder/*.mid\"):  # Load all MIDI files\n",
        "    notes.extend(midi_to_notes(file))\n",
        "\n",
        "print(f\"🎵 Total notes collected: {len(notes)}\")  # Should be > 0 now!\n"
      ],
      "metadata": {
        "colab": {
          "base_uri": "https://localhost:8080/"
        },
        "id": "uRbbUXLGvpAV",
        "outputId": "548def40-0a2c-4323-a506-67eea807baf1"
      },
      "execution_count": null,
      "outputs": [
        {
          "output_type": "stream",
          "name": "stdout",
          "text": [
            "🎵 Total notes collected: 292\n"
          ]
        }
      ]
    },
    {
      "cell_type": "code",
      "source": [
        "print(f\"X shape: {X.shape}, y shape: {y.shape}\")\n"
      ],
      "metadata": {
        "colab": {
          "base_uri": "https://localhost:8080/"
        },
        "id": "fS8BLZ-nwFgf",
        "outputId": "c46f7af8-c98e-4dd4-ea82-ed07ef1eec83"
      },
      "execution_count": null,
      "outputs": [
        {
          "output_type": "stream",
          "name": "stdout",
          "text": [
            "X shape: (0, 20, 1), y shape: (0,)\n"
          ]
        }
      ]
    },
    {
      "cell_type": "code",
      "source": [
        "for file in glob.glob(\"midi_folder/*.mid\"):\n",
        "    notes = midi_to_notes(file)\n",
        "    print(f\"{file}: {notes[:10]}\")  # Print first 10 notes"
      ],
      "metadata": {
        "colab": {
          "base_uri": "https://localhost:8080/"
        },
        "id": "G8Vka7IHwqAy",
        "outputId": "cf75910a-41d8-4d82-80c5-19ade6289d05"
      },
      "execution_count": null,
      "outputs": [
        {
          "output_type": "stream",
          "name": "stdout",
          "text": [
            "midi_folder/generated_1.mid: ['D4', 'D4', 'D4', 'C4', 'F4', 'B4', 'B4', 'B4', 'F4', 'A4']\n",
            "midi_folder/generated_0.mid: ['A4', 'E4', 'A4', 'B4', 'B4', 'F4', 'B4', 'F4', 'F4', 'E4']\n",
            "midi_folder/generated_3.mid: ['D4', 'F4', 'E4', 'A4', 'A4', 'C4', 'E4', 'F4', 'G4', 'G4']\n",
            "midi_folder/generated_2.mid: ['A4', 'E4', 'E4', 'E4', 'F4', 'B4', 'E4', 'E4', 'E4', 'D4']\n",
            "midi_folder/generated_4.mid: ['A4', 'E4', 'F4', 'C4', 'C4', 'D4', 'G4', 'D4', 'F4', 'G4']\n"
          ]
        }
      ]
    },
    {
      "cell_type": "code",
      "source": [
        "n_vocab = len(set(notes))  # Total unique notes\n",
        "print(f\"🎶 Total unique notes (n_vocab): {n_vocab}\")\n"
      ],
      "metadata": {
        "colab": {
          "base_uri": "https://localhost:8080/"
        },
        "id": "cF9oSpXtwkCW",
        "outputId": "9eeba568-ac7d-4e27-ca18-4e3187fc5133"
      },
      "execution_count": null,
      "outputs": [
        {
          "output_type": "stream",
          "name": "stdout",
          "text": [
            "🎶 Total unique notes (n_vocab): 8\n"
          ]
        }
      ]
    },
    {
      "cell_type": "code",
      "source": [
        "print(\"🎹 Note-to-Int Dictionary:\", note_to_int)\n",
        "print(\"🎶 Sample sequence:\", notes[:20])  # First 20 notes\n"
      ],
      "metadata": {
        "colab": {
          "base_uri": "https://localhost:8080/"
        },
        "id": "rc4PkrucyCAz",
        "outputId": "c6e9078d-8bbe-42e1-cf23-7d69093a1548"
      },
      "execution_count": null,
      "outputs": [
        {
          "output_type": "stream",
          "name": "stdout",
          "text": [
            "🎹 Note-to-Int Dictionary: {'A4': 0, 'B4': 1, 'C4': 2, 'D4': 3, 'E4': 4, 'F4': 5, 'G4': 6}\n",
            "🎶 Sample sequence: ['D4', 'D4', 'D4', 'C4', 'F4', 'B4', 'B4', 'B4', 'F4', 'A4', 'E4', 'D4', 'E4', 'E4', 'E4', 'A4', 'E4', 'B4', 'B4', 'E4']\n"
          ]
        }
      ]
    },
    {
      "cell_type": "code",
      "source": [
        "note_to_int = {str(note): num for num, note in enumerate(unique_notes)}\n",
        "notes = [str(n) for n in notes]  # Convert all notes to strings\n"
      ],
      "metadata": {
        "id": "Gvw-XWatyGv3"
      },
      "execution_count": null,
      "outputs": []
    },
    {
      "cell_type": "code",
      "source": [
        "X.append([note_to_int.get(n, 0) for n in seq_in])  # Default to 0 if missing\n",
        "y.append(note_to_int.get(seq_out, 0))\n"
      ],
      "metadata": {
        "id": "4ec84WoByN_p"
      },
      "execution_count": null,
      "outputs": []
    },
    {
      "cell_type": "code",
      "source": [
        "# Step 1: Create note mapping\n",
        "unique_notes = sorted(set(notes))\n",
        "note_to_int = {str(note): num for num, note in enumerate(unique_notes)}\n",
        "notes = [str(n) for n in notes]  # Convert all notes to strings\n",
        "\n",
        "print(\"🎹 Note-to-Int Dictionary:\", note_to_int)  # Debugging\n",
        "print(\"🎶 Sample sequence:\", notes[:20])  # Debugging\n",
        "\n",
        "# Step 2: Prepare training data\n",
        "sequence_length = 20\n",
        "X, y = [], []\n",
        "\n",
        "for i in range(len(notes) - sequence_length):\n",
        "    seq_in = notes[i:i + sequence_length]\n",
        "    seq_out = notes[i + sequence_length]\n",
        "\n",
        "    # Handle KeyError with default value\n",
        "    X.append([note_to_int.get(n, 0) for n in seq_in])\n",
        "    y.append(note_to_int.get(seq_out, 0))\n",
        "\n",
        "# Convert to NumPy arrays\n",
        "import numpy as np\n",
        "X = np.reshape(X, (len(X), sequence_length, 1))\n",
        "y = np.array(y)\n",
        "\n",
        "# Verify dataset\n",
        "print(f\"✅ X shape: {X.shape}, y shape: {y.shape}\")\n",
        "\n",
        "if len(X) == 0:\n",
        "    raise ValueError(\"🚨 Dataset is empty! Add more MIDI files.\")\n",
        "\n",
        "# Step 3: Train the Model\n",
        "model.fit(X, y, epochs=50, batch_size=64)\n"
      ],
      "metadata": {
        "colab": {
          "base_uri": "https://localhost:8080/"
        },
        "id": "qfyRvKKGwwCX",
        "outputId": "11e567a7-a76a-4438-a075-fe1191e83031"
      },
      "execution_count": null,
      "outputs": [
        {
          "output_type": "stream",
          "name": "stdout",
          "text": [
            "🎹 Note-to-Int Dictionary: {'A4': 0, 'B4': 1, 'C4': 2, 'D4': 3, 'E4': 4, 'F4': 5, 'G4': 6}\n",
            "🎶 Sample sequence: ['D4', 'D4', 'D4', 'C4', 'F4', 'B4', 'B4', 'B4', 'F4', 'A4', 'E4', 'D4', 'E4', 'E4', 'E4', 'A4', 'E4', 'B4', 'B4', 'E4']\n",
            "✅ X shape: (272, 20, 1), y shape: (272,)\n",
            "Epoch 1/50\n",
            "\u001b[1m5/5\u001b[0m \u001b[32m━━━━━━━━━━━━━━━━━━━━\u001b[0m\u001b[37m\u001b[0m \u001b[1m3s\u001b[0m 23ms/step - loss: 2.0812\n",
            "Epoch 2/50\n",
            "\u001b[1m5/5\u001b[0m \u001b[32m━━━━━━━━━━━━━━━━━━━━\u001b[0m\u001b[37m\u001b[0m \u001b[1m1s\u001b[0m 14ms/step - loss: 1.9675 \n",
            "Epoch 3/50\n",
            "\u001b[1m5/5\u001b[0m \u001b[32m━━━━━━━━━━━━━━━━━━━━\u001b[0m\u001b[37m\u001b[0m \u001b[1m0s\u001b[0m 15ms/step - loss: 1.9746\n",
            "Epoch 4/50\n",
            "\u001b[1m5/5\u001b[0m \u001b[32m━━━━━━━━━━━━━━━━━━━━\u001b[0m\u001b[37m\u001b[0m \u001b[1m0s\u001b[0m 14ms/step - loss: 1.9401\n",
            "Epoch 5/50\n",
            "\u001b[1m5/5\u001b[0m \u001b[32m━━━━━━━━━━━━━━━━━━━━\u001b[0m\u001b[37m\u001b[0m \u001b[1m0s\u001b[0m 14ms/step - loss: 1.9231\n",
            "Epoch 6/50\n",
            "\u001b[1m5/5\u001b[0m \u001b[32m━━━━━━━━━━━━━━━━━━━━\u001b[0m\u001b[37m\u001b[0m \u001b[1m0s\u001b[0m 18ms/step - loss: 1.9259\n",
            "Epoch 7/50\n",
            "\u001b[1m5/5\u001b[0m \u001b[32m━━━━━━━━━━━━━━━━━━━━\u001b[0m\u001b[37m\u001b[0m \u001b[1m0s\u001b[0m 15ms/step - loss: 1.9334\n",
            "Epoch 8/50\n",
            "\u001b[1m5/5\u001b[0m \u001b[32m━━━━━━━━━━━━━━━━━━━━\u001b[0m\u001b[37m\u001b[0m \u001b[1m0s\u001b[0m 15ms/step - loss: 1.9231\n",
            "Epoch 9/50\n",
            "\u001b[1m5/5\u001b[0m \u001b[32m━━━━━━━━━━━━━━━━━━━━\u001b[0m\u001b[37m\u001b[0m \u001b[1m0s\u001b[0m 15ms/step - loss: 1.9418\n",
            "Epoch 10/50\n",
            "\u001b[1m5/5\u001b[0m \u001b[32m━━━━━━━━━━━━━━━━━━━━\u001b[0m\u001b[37m\u001b[0m \u001b[1m0s\u001b[0m 15ms/step - loss: 1.9275\n",
            "Epoch 11/50\n",
            "\u001b[1m5/5\u001b[0m \u001b[32m━━━━━━━━━━━━━━━━━━━━\u001b[0m\u001b[37m\u001b[0m \u001b[1m0s\u001b[0m 15ms/step - loss: 1.9389\n",
            "Epoch 12/50\n",
            "\u001b[1m5/5\u001b[0m \u001b[32m━━━━━━━━━━━━━━━━━━━━\u001b[0m\u001b[37m\u001b[0m \u001b[1m0s\u001b[0m 15ms/step - loss: 1.9331\n",
            "Epoch 13/50\n",
            "\u001b[1m5/5\u001b[0m \u001b[32m━━━━━━━━━━━━━━━━━━━━\u001b[0m\u001b[37m\u001b[0m \u001b[1m0s\u001b[0m 15ms/step - loss: 1.9331\n",
            "Epoch 14/50\n",
            "\u001b[1m5/5\u001b[0m \u001b[32m━━━━━━━━━━━━━━━━━━━━\u001b[0m\u001b[37m\u001b[0m \u001b[1m0s\u001b[0m 14ms/step - loss: 1.9114\n",
            "Epoch 15/50\n",
            "\u001b[1m5/5\u001b[0m \u001b[32m━━━━━━━━━━━━━━━━━━━━\u001b[0m\u001b[37m\u001b[0m \u001b[1m0s\u001b[0m 14ms/step - loss: 1.9129\n",
            "Epoch 16/50\n",
            "\u001b[1m5/5\u001b[0m \u001b[32m━━━━━━━━━━━━━━━━━━━━\u001b[0m\u001b[37m\u001b[0m \u001b[1m0s\u001b[0m 14ms/step - loss: 1.9284\n",
            "Epoch 17/50\n",
            "\u001b[1m5/5\u001b[0m \u001b[32m━━━━━━━━━━━━━━━━━━━━\u001b[0m\u001b[37m\u001b[0m \u001b[1m0s\u001b[0m 15ms/step - loss: 1.9246\n",
            "Epoch 18/50\n",
            "\u001b[1m5/5\u001b[0m \u001b[32m━━━━━━━━━━━━━━━━━━━━\u001b[0m\u001b[37m\u001b[0m \u001b[1m0s\u001b[0m 14ms/step - loss: 1.9168\n",
            "Epoch 19/50\n",
            "\u001b[1m5/5\u001b[0m \u001b[32m━━━━━━━━━━━━━━━━━━━━\u001b[0m\u001b[37m\u001b[0m \u001b[1m0s\u001b[0m 14ms/step - loss: 1.9199\n",
            "Epoch 20/50\n",
            "\u001b[1m5/5\u001b[0m \u001b[32m━━━━━━━━━━━━━━━━━━━━\u001b[0m\u001b[37m\u001b[0m \u001b[1m0s\u001b[0m 15ms/step - loss: 1.9181\n",
            "Epoch 21/50\n",
            "\u001b[1m5/5\u001b[0m \u001b[32m━━━━━━━━━━━━━━━━━━━━\u001b[0m\u001b[37m\u001b[0m \u001b[1m0s\u001b[0m 16ms/step - loss: 1.9192\n",
            "Epoch 22/50\n",
            "\u001b[1m5/5\u001b[0m \u001b[32m━━━━━━━━━━━━━━━━━━━━\u001b[0m\u001b[37m\u001b[0m \u001b[1m0s\u001b[0m 14ms/step - loss: 1.9095\n",
            "Epoch 23/50\n",
            "\u001b[1m5/5\u001b[0m \u001b[32m━━━━━━━━━━━━━━━━━━━━\u001b[0m\u001b[37m\u001b[0m \u001b[1m0s\u001b[0m 14ms/step - loss: 1.9193\n",
            "Epoch 24/50\n",
            "\u001b[1m5/5\u001b[0m \u001b[32m━━━━━━━━━━━━━━━━━━━━\u001b[0m\u001b[37m\u001b[0m \u001b[1m0s\u001b[0m 16ms/step - loss: 1.9218\n",
            "Epoch 25/50\n",
            "\u001b[1m5/5\u001b[0m \u001b[32m━━━━━━━━━━━━━━━━━━━━\u001b[0m\u001b[37m\u001b[0m \u001b[1m0s\u001b[0m 14ms/step - loss: 1.9285\n",
            "Epoch 26/50\n",
            "\u001b[1m5/5\u001b[0m \u001b[32m━━━━━━━━━━━━━━━━━━━━\u001b[0m\u001b[37m\u001b[0m \u001b[1m0s\u001b[0m 14ms/step - loss: 1.9223\n",
            "Epoch 27/50\n",
            "\u001b[1m5/5\u001b[0m \u001b[32m━━━━━━━━━━━━━━━━━━━━\u001b[0m\u001b[37m\u001b[0m \u001b[1m0s\u001b[0m 14ms/step - loss: 1.9170\n",
            "Epoch 28/50\n",
            "\u001b[1m5/5\u001b[0m \u001b[32m━━━━━━━━━━━━━━━━━━━━\u001b[0m\u001b[37m\u001b[0m \u001b[1m0s\u001b[0m 14ms/step - loss: 1.9065\n",
            "Epoch 29/50\n",
            "\u001b[1m5/5\u001b[0m \u001b[32m━━━━━━━━━━━━━━━━━━━━\u001b[0m\u001b[37m\u001b[0m \u001b[1m0s\u001b[0m 15ms/step - loss: 1.9112\n",
            "Epoch 30/50\n",
            "\u001b[1m5/5\u001b[0m \u001b[32m━━━━━━━━━━━━━━━━━━━━\u001b[0m\u001b[37m\u001b[0m \u001b[1m0s\u001b[0m 15ms/step - loss: 1.8895\n",
            "Epoch 31/50\n",
            "\u001b[1m5/5\u001b[0m \u001b[32m━━━━━━━━━━━━━━━━━━━━\u001b[0m\u001b[37m\u001b[0m \u001b[1m0s\u001b[0m 14ms/step - loss: 1.9078\n",
            "Epoch 32/50\n",
            "\u001b[1m5/5\u001b[0m \u001b[32m━━━━━━━━━━━━━━━━━━━━\u001b[0m\u001b[37m\u001b[0m \u001b[1m0s\u001b[0m 15ms/step - loss: 1.8930\n",
            "Epoch 33/50\n",
            "\u001b[1m5/5\u001b[0m \u001b[32m━━━━━━━━━━━━━━━━━━━━\u001b[0m\u001b[37m\u001b[0m \u001b[1m0s\u001b[0m 15ms/step - loss: 1.9004\n",
            "Epoch 34/50\n",
            "\u001b[1m5/5\u001b[0m \u001b[32m━━━━━━━━━━━━━━━━━━━━\u001b[0m\u001b[37m\u001b[0m \u001b[1m0s\u001b[0m 14ms/step - loss: 1.8782\n",
            "Epoch 35/50\n",
            "\u001b[1m5/5\u001b[0m \u001b[32m━━━━━━━━━━━━━━━━━━━━\u001b[0m\u001b[37m\u001b[0m \u001b[1m0s\u001b[0m 15ms/step - loss: 1.8707\n",
            "Epoch 36/50\n",
            "\u001b[1m5/5\u001b[0m \u001b[32m━━━━━━━━━━━━━━━━━━━━\u001b[0m\u001b[37m\u001b[0m \u001b[1m0s\u001b[0m 15ms/step - loss: 1.8691\n",
            "Epoch 37/50\n",
            "\u001b[1m5/5\u001b[0m \u001b[32m━━━━━━━━━━━━━━━━━━━━\u001b[0m\u001b[37m\u001b[0m \u001b[1m0s\u001b[0m 14ms/step - loss: 1.8737\n",
            "Epoch 38/50\n",
            "\u001b[1m5/5\u001b[0m \u001b[32m━━━━━━━━━━━━━━━━━━━━\u001b[0m\u001b[37m\u001b[0m \u001b[1m0s\u001b[0m 15ms/step - loss: 1.8970\n",
            "Epoch 39/50\n",
            "\u001b[1m5/5\u001b[0m \u001b[32m━━━━━━━━━━━━━━━━━━━━\u001b[0m\u001b[37m\u001b[0m \u001b[1m0s\u001b[0m 14ms/step - loss: 1.8858\n",
            "Epoch 40/50\n",
            "\u001b[1m5/5\u001b[0m \u001b[32m━━━━━━━━━━━━━━━━━━━━\u001b[0m\u001b[37m\u001b[0m \u001b[1m0s\u001b[0m 16ms/step - loss: 1.8610\n",
            "Epoch 41/50\n",
            "\u001b[1m5/5\u001b[0m \u001b[32m━━━━━━━━━━━━━━━━━━━━\u001b[0m\u001b[37m\u001b[0m \u001b[1m0s\u001b[0m 14ms/step - loss: 1.8793\n",
            "Epoch 42/50\n",
            "\u001b[1m5/5\u001b[0m \u001b[32m━━━━━━━━━━━━━━━━━━━━\u001b[0m\u001b[37m\u001b[0m \u001b[1m0s\u001b[0m 14ms/step - loss: 1.8398\n",
            "Epoch 43/50\n",
            "\u001b[1m5/5\u001b[0m \u001b[32m━━━━━━━━━━━━━━━━━━━━\u001b[0m\u001b[37m\u001b[0m \u001b[1m0s\u001b[0m 14ms/step - loss: 1.8593\n",
            "Epoch 44/50\n",
            "\u001b[1m5/5\u001b[0m \u001b[32m━━━━━━━━━━━━━━━━━━━━\u001b[0m\u001b[37m\u001b[0m \u001b[1m0s\u001b[0m 15ms/step - loss: 1.8457\n",
            "Epoch 45/50\n",
            "\u001b[1m5/5\u001b[0m \u001b[32m━━━━━━━━━━━━━━━━━━━━\u001b[0m\u001b[37m\u001b[0m \u001b[1m0s\u001b[0m 14ms/step - loss: 1.8302\n",
            "Epoch 46/50\n",
            "\u001b[1m5/5\u001b[0m \u001b[32m━━━━━━━━━━━━━━━━━━━━\u001b[0m\u001b[37m\u001b[0m \u001b[1m0s\u001b[0m 15ms/step - loss: 1.8117\n",
            "Epoch 47/50\n",
            "\u001b[1m5/5\u001b[0m \u001b[32m━━━━━━━━━━━━━━━━━━━━\u001b[0m\u001b[37m\u001b[0m \u001b[1m0s\u001b[0m 14ms/step - loss: 1.8441\n",
            "Epoch 48/50\n",
            "\u001b[1m5/5\u001b[0m \u001b[32m━━━━━━━━━━━━━━━━━━━━\u001b[0m\u001b[37m\u001b[0m \u001b[1m0s\u001b[0m 14ms/step - loss: 1.8307\n",
            "Epoch 49/50\n",
            "\u001b[1m5/5\u001b[0m \u001b[32m━━━━━━━━━━━━━━━━━━━━\u001b[0m\u001b[37m\u001b[0m \u001b[1m0s\u001b[0m 16ms/step - loss: 1.8237\n",
            "Epoch 50/50\n",
            "\u001b[1m5/5\u001b[0m \u001b[32m━━━━━━━━━━━━━━━━━━━━\u001b[0m\u001b[37m\u001b[0m \u001b[1m0s\u001b[0m 14ms/step - loss: 1.8235\n"
          ]
        },
        {
          "output_type": "execute_result",
          "data": {
            "text/plain": [
              "<keras.src.callbacks.history.History at 0x7e9fe011c6d0>"
            ]
          },
          "metadata": {},
          "execution_count": 36
        }
      ]
    },
    {
      "cell_type": "code",
      "source": [
        "import random\n",
        "import numpy as np\n",
        "\n",
        "# Pick a random starting sequence from the dataset\n",
        "seed_index = random.randint(0, len(X) - 1)\n",
        "seed = X[seed_index].tolist()  # Convert NumPy array to list\n",
        "\n",
        "print(\"🎶 Starting Seed:\", seed)\n"
      ],
      "metadata": {
        "colab": {
          "base_uri": "https://localhost:8080/"
        },
        "id": "sE_H0_XyzK-f",
        "outputId": "6ba94231-7dfb-4e2b-86ae-5f65a4ad1fff"
      },
      "execution_count": null,
      "outputs": [
        {
          "output_type": "stream",
          "name": "stdout",
          "text": [
            "🎶 Starting Seed: [[5], [4], [5], [1], [4], [3], [2], [2], [1], [6], [6], [3], [5], [5], [5], [6], [6], [2], [5], [1]]\n"
          ]
        }
      ]
    },
    {
      "cell_type": "code",
      "source": [
        "generated_notes = []\n",
        "\n",
        "# Generate 100 notes\n",
        "for _ in range(100):\n",
        "    # Reshape seed for prediction\n",
        "    input_seq = np.reshape(seed, (1, len(seed), 1))\n",
        "\n",
        "    # Predict next note\n",
        "    prediction = model.predict(input_seq, verbose=0)\n",
        "    next_note_index = np.argmax(prediction)  # Get the note with highest probability\n",
        "\n",
        "    # Convert index back to note\n",
        "    int_to_note = {num: note for note, num in note_to_int.items()}\n",
        "    next_note = int_to_note[next_note_index]\n",
        "\n",
        "    # Add to generated notes\n",
        "    generated_notes.append(next_note)\n",
        "\n",
        "    # Update seed: Remove first note and append the new one\n",
        "    seed.append([next_note_index])\n",
        "    seed = seed[1:]\n"
      ],
      "metadata": {
        "id": "_mkiyZjrzPnr"
      },
      "execution_count": null,
      "outputs": []
    },
    {
      "cell_type": "code",
      "source": [
        "from music21 import stream, note, chord, midi\n",
        "\n",
        "def create_midi(generated_notes, output_file=\"generated_music1.mid\"):\n",
        "    output_stream = stream.Stream()\n",
        "\n",
        "    for pattern in generated_notes:\n",
        "        if \".\" in pattern or pattern.isdigit():  # If it's a chord\n",
        "            notes_in_chord = pattern.split(\".\")\n",
        "            notes = [note.Note(int(n)) for n in notes_in_chord]\n",
        "            new_chord = chord.Chord(notes)\n",
        "            output_stream.append(new_chord)\n",
        "        else:  # If it's a single note\n",
        "            new_note = note.Note(pattern)\n",
        "            output_stream.append(new_note)\n",
        "\n",
        "    # Save as MIDI\n",
        "    output_stream.write('midi', fp=output_file)\n",
        "    print(f\"✅ MIDI file saved as {output_file}\")\n",
        "\n",
        "# Generate and save music\n",
        "create_midi(generated_notes)\n"
      ],
      "metadata": {
        "colab": {
          "base_uri": "https://localhost:8080/"
        },
        "id": "q4EUyakizXTd",
        "outputId": "f423e69c-3231-4d16-d716-60684ced53ca"
      },
      "execution_count": 43,
      "outputs": [
        {
          "output_type": "stream",
          "name": "stdout",
          "text": [
            "✅ MIDI file saved as generated_music1.mid\n"
          ]
        }
      ]
    },
    {
      "cell_type": "markdown",
      "source": [
        "# AI Music Generation Model\n",
        "\n",
        "## Overview\n",
        "An AI-powered music generation system using **LSTM-based RNNs** to compose original melodies from MIDI data.\n",
        "\n",
        "## Steps\n",
        "1. **Data Collection**: Extracted notes from MIDI files using **Music21**.\n",
        "2. **Preprocessing**: Converted notes into numerical sequences.\n",
        "3. **Model Architecture**: LSTM layers, Dropout, Dense, and Softmax.\n",
        "4. **Training**: Optimized using **Adam**, trained for **50 epochs**.\n",
        "5. **Generation**: Seeded sequence predicts next notes, saved as MIDI.\n",
        "\n",
        "## Future Improvements\n",
        "- Use **Transformers** for better sequences.\n",
        "- Implement **GANs (MuseGAN)** for diverse compositions.\n",
        "- Apply **Temperature Sampling** for controlled creativity.\n",
        "\n"
      ],
      "metadata": {
        "id": "msye_mDp4akU"
      }
    },
    {
      "cell_type": "markdown",
      "source": [
        "# **Open .mid file in Online midi player and listen 🎧 generated music 🎶.**"
      ],
      "metadata": {
        "id": "lbGssOFH2TSx"
      }
    }
  ]
}